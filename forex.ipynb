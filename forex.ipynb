{
 "cells": [
  {
   "cell_type": "code",
   "execution_count": 1,
   "id": "3f2dccf2",
   "metadata": {},
   "outputs": [
    {
     "name": "stdout",
     "output_type": "stream",
     "text": [
      "0\n",
      "1\n",
      "2\n"
     ]
    }
   ],
   "source": [
    "for i in range(3):\n",
    "    print(i)"
   ]
  },
  {
   "cell_type": "code",
   "execution_count": 10,
   "id": "8fe18259",
   "metadata": {},
   "outputs": [
    {
     "name": "stdout",
     "output_type": "stream",
     "text": [
      "(0,0)\t(0,1)\t(0,2)\t\n",
      "(1,0)\t(1,1)\t(1,2)\t\n",
      "(2,0)\t(2,1)\t(2,2)\t\n"
     ]
    }
   ],
   "source": [
    "for i in range(3):\n",
    "    for j in range(3):\n",
    "        print(f'({i},{j})', end='\\t')\n",
    "    print()"
   ]
  },
  {
   "cell_type": "code",
   "execution_count": 12,
   "id": "c08fbfd2",
   "metadata": {},
   "outputs": [
    {
     "name": "stdout",
     "output_type": "stream",
     "text": [
      "1 X 1 = 1\t1 X 2 = 2\t1 X 3 = 3\t1 X 4 = 4\t1 X 5 = 5\t1 X 6 = 6\t1 X 7 = 7\t1 X 8 = 8\t1 X 9 = 9\t\n",
      "2 X 1 = 2\t2 X 2 = 4\t2 X 3 = 6\t2 X 4 = 8\t2 X 5 = 10\t2 X 6 = 12\t2 X 7 = 14\t2 X 8 = 16\t2 X 9 = 18\t\n",
      "3 X 1 = 3\t3 X 2 = 6\t3 X 3 = 9\t3 X 4 = 12\t3 X 5 = 15\t3 X 6 = 18\t3 X 7 = 21\t3 X 8 = 24\t3 X 9 = 27\t\n",
      "4 X 1 = 4\t4 X 2 = 8\t4 X 3 = 12\t4 X 4 = 16\t4 X 5 = 20\t4 X 6 = 24\t4 X 7 = 28\t4 X 8 = 32\t4 X 9 = 36\t\n",
      "5 X 1 = 5\t5 X 2 = 10\t5 X 3 = 15\t5 X 4 = 20\t5 X 5 = 25\t5 X 6 = 30\t5 X 7 = 35\t5 X 8 = 40\t5 X 9 = 45\t\n",
      "6 X 1 = 6\t6 X 2 = 12\t6 X 3 = 18\t6 X 4 = 24\t6 X 5 = 30\t6 X 6 = 36\t6 X 7 = 42\t6 X 8 = 48\t6 X 9 = 54\t\n",
      "7 X 1 = 7\t7 X 2 = 14\t7 X 3 = 21\t7 X 4 = 28\t7 X 5 = 35\t7 X 6 = 42\t7 X 7 = 49\t7 X 8 = 56\t7 X 9 = 63\t\n",
      "8 X 1 = 8\t8 X 2 = 16\t8 X 3 = 24\t8 X 4 = 32\t8 X 5 = 40\t8 X 6 = 48\t8 X 7 = 56\t8 X 8 = 64\t8 X 9 = 72\t\n",
      "9 X 1 = 9\t9 X 2 = 18\t9 X 3 = 27\t9 X 4 = 36\t9 X 5 = 45\t9 X 6 = 54\t9 X 7 = 63\t9 X 8 = 72\t9 X 9 = 81\t\n"
     ]
    }
   ],
   "source": [
    "for i in range(1,10):\n",
    "    for j in range(1,10):\n",
    "        print(f'{i} X {j} = {i*j}', end='\\t')\n",
    "    print()"
   ]
  },
  {
   "cell_type": "code",
   "execution_count": 14,
   "id": "fd1c4bdf",
   "metadata": {},
   "outputs": [
    {
     "name": "stdout",
     "output_type": "stream",
     "text": [
      "5\n"
     ]
    }
   ],
   "source": [
    "def fun_return(x):\n",
    "    return x\n",
    "    return 'hi'\n",
    "\n",
    "print(fun_return(5))"
   ]
  },
  {
   "cell_type": "code",
   "execution_count": 27,
   "id": "9fbf2288",
   "metadata": {},
   "outputs": [
    {
     "name": "stdout",
     "output_type": "stream",
     "text": [
      "입력값\n",
      "5\n",
      "입력값 +1\n",
      "6\n",
      "입력값 +2\n",
      "7\n",
      "입력값 +3\n"
     ]
    },
    {
     "data": {
      "text/plain": [
       "<generator object fun_return at 0x0000021E55A80100>"
      ]
     },
     "execution_count": 27,
     "metadata": {},
     "output_type": "execute_result"
    }
   ],
   "source": [
    "def fun_return(x):\n",
    "    print('입력값')\n",
    "    yield x\n",
    "\n",
    "    print('입력값 +1')\n",
    "    x += 1\n",
    "    yield x\n",
    "\n",
    "    print('입력값 +2')\n",
    "    x += 1\n",
    "    yield x\n",
    "\n",
    "    print('입력값 +3')\n",
    "    x += 1\n",
    "    return x\n",
    "    \n",
    "\n",
    "for i in fun_return(5):\n",
    "    print(i)\n",
    "\n",
    "fun_return(5)"
   ]
  },
  {
   "cell_type": "code",
   "execution_count": 30,
   "id": "a67f1e29",
   "metadata": {},
   "outputs": [
    {
     "name": "stdout",
     "output_type": "stream",
     "text": [
      "asd\n",
      "ddd\n"
     ]
    }
   ],
   "source": [
    "with open('test3.txt') as f:\n",
    "    print(f.read())"
   ]
  },
  {
   "cell_type": "code",
   "execution_count": 36,
   "id": "034aecce",
   "metadata": {},
   "outputs": [],
   "source": [
    "class Car():\n",
    "    def roll(self, model):\n",
    "        print(f'{model}이(가) 굴러갑니다')"
   ]
  },
  {
   "cell_type": "code",
   "execution_count": 37,
   "id": "60a2ea34",
   "metadata": {},
   "outputs": [
    {
     "name": "stdout",
     "output_type": "stream",
     "text": [
      "제네시스이(가) 굴러갑니다\n"
     ]
    }
   ],
   "source": [
    "car1 = Car()\n",
    "car1.roll('제네시스')"
   ]
  },
  {
   "cell_type": "code",
   "execution_count": 42,
   "id": "d13f344a",
   "metadata": {},
   "outputs": [],
   "source": [
    "class Car():\n",
    "    def __init__(self,color):\n",
    "        self.color = color"
   ]
  },
  {
   "cell_type": "code",
   "execution_count": 41,
   "id": "827cd457",
   "metadata": {},
   "outputs": [
    {
     "data": {
      "text/plain": [
       "'black'"
      ]
     },
     "execution_count": 41,
     "metadata": {},
     "output_type": "execute_result"
    }
   ],
   "source": [
    "car4 = Car('black')\n",
    "car4.color"
   ]
  },
  {
   "cell_type": "code",
   "execution_count": 44,
   "id": "f1bfe611",
   "metadata": {},
   "outputs": [],
   "source": [
    "class Car():\n",
    "    def __init__(self,color):\n",
    "        self.color = color\n",
    "    def roll(self, model):\n",
    "        print(f'{self.color}색인 {model}이(가) 굴러갑니다')"
   ]
  },
  {
   "cell_type": "code",
   "execution_count": 46,
   "id": "15296ec2",
   "metadata": {},
   "outputs": [
    {
     "name": "stdout",
     "output_type": "stream",
     "text": [
      "검정색인 제네시스이(가) 굴러갑니다\n"
     ]
    }
   ],
   "source": [
    "car = Car('검정')\n",
    "car.roll('제네시스')"
   ]
  },
  {
   "cell_type": "markdown",
   "id": "330e44c7",
   "metadata": {},
   "source": [
    "# 클래스 관계\n",
    "\n",
    "## 1.사용\n",
    "`내(이름)가 BMW 를 타고 가는 상황`"
   ]
  },
  {
   "cell_type": "code",
   "execution_count": 65,
   "id": "f61ed291",
   "metadata": {},
   "outputs": [
    {
     "name": "stdout",
     "output_type": "stream",
     "text": [
      "심재성이(가) BMW을 운전함\n"
     ]
    }
   ],
   "source": [
    "class Person():\n",
    "    def __init__(self,name):\n",
    "        self.name = name\n",
    "    def drive(self, model):\n",
    "        print(f'{self.name}이(가) {model}을 운전함')\n",
    "        \n",
    "person = Person('심재성')\n",
    "person.drive('BMW')"
   ]
  },
  {
   "cell_type": "code",
   "execution_count": 66,
   "id": "ef38c761",
   "metadata": {},
   "outputs": [
    {
     "name": "stdout",
     "output_type": "stream",
     "text": [
      "심재성이(가) BMW을 운전함\n"
     ]
    }
   ],
   "source": [
    "class Car():\n",
    "    def __init__(self,model):\n",
    "        self.model = model\n",
    "\n",
    "car = Car('BMW')\n",
    "person.drive(car.model)"
   ]
  },
  {
   "cell_type": "markdown",
   "id": "bb08b561",
   "metadata": {},
   "source": [
    "## 2.포함\n",
    "` 차 안에 엔진을 포함한다.`"
   ]
  },
  {
   "cell_type": "code",
   "execution_count": 68,
   "id": "54b7b07c",
   "metadata": {},
   "outputs": [],
   "source": [
    "class Engine:\n",
    "    def start(self):\n",
    "        print('엔진 가동!')\n"
   ]
  },
  {
   "cell_type": "code",
   "execution_count": 73,
   "id": "ee5cd05b",
   "metadata": {},
   "outputs": [],
   "source": [
    "class Car:\n",
    "    def __init__(self):\n",
    "        self.engine = Engine()\n",
    "    def drive(self):\n",
    "        self.engine.start()\n",
    "        print('자동차 주행')"
   ]
  },
  {
   "cell_type": "code",
   "execution_count": 74,
   "id": "1db0219c",
   "metadata": {},
   "outputs": [
    {
     "name": "stdout",
     "output_type": "stream",
     "text": [
      "엔진 가동!\n",
      "자동차 주행\n"
     ]
    }
   ],
   "source": [
    "car = Car()\n",
    "car.drive()"
   ]
  },
  {
   "cell_type": "markdown",
   "id": "23405a43",
   "metadata": {},
   "source": [
    "## 3.상속\n",
    "`차(부모) - 버스(자식)`\n",
    "\n",
    "`버스는 차`"
   ]
  },
  {
   "cell_type": "code",
   "execution_count": 75,
   "id": "73bb9daf",
   "metadata": {},
   "outputs": [],
   "source": [
    "class Bus(Car):\n",
    "    pass"
   ]
  },
  {
   "cell_type": "code",
   "execution_count": 79,
   "id": "593ad097",
   "metadata": {},
   "outputs": [
    {
     "name": "stdout",
     "output_type": "stream",
     "text": [
      "엔진 가동!\n",
      "자동차 주행\n"
     ]
    }
   ],
   "source": [
    "bus = Bus()\n",
    "bus.drive()"
   ]
  },
  {
   "cell_type": "code",
   "execution_count": 83,
   "id": "3f3ce1d0",
   "metadata": {},
   "outputs": [],
   "source": [
    "class Animal:\n",
    "    def speak(self):\n",
    "        raise NotImplementedError('서브클래스는 이 함수를 상속해야함')"
   ]
  },
  {
   "cell_type": "code",
   "execution_count": 84,
   "id": "fc88645d",
   "metadata": {},
   "outputs": [],
   "source": [
    "class Dog(Animal):\n",
    "    pass"
   ]
  },
  {
   "cell_type": "code",
   "execution_count": 85,
   "id": "d43e6c73",
   "metadata": {},
   "outputs": [
    {
     "ename": "NotImplementedError",
     "evalue": "서브클래스는 이 함수를 상속해야함",
     "output_type": "error",
     "traceback": [
      "\u001b[1;31m---------------------------------------------------------------------------\u001b[0m",
      "\u001b[1;31mNotImplementedError\u001b[0m                       Traceback (most recent call last)",
      "Cell \u001b[1;32mIn[85], line 2\u001b[0m\n\u001b[0;32m      1\u001b[0m chiwawa \u001b[38;5;241m=\u001b[39m Dog()\n\u001b[1;32m----> 2\u001b[0m chiwawa\u001b[38;5;241m.\u001b[39mspeak()\n",
      "Cell \u001b[1;32mIn[83], line 3\u001b[0m, in \u001b[0;36mAnimal.speak\u001b[1;34m(self)\u001b[0m\n\u001b[0;32m      2\u001b[0m \u001b[38;5;28;01mdef\u001b[39;00m\u001b[38;5;250m \u001b[39m\u001b[38;5;21mspeak\u001b[39m(\u001b[38;5;28mself\u001b[39m):\n\u001b[1;32m----> 3\u001b[0m     \u001b[38;5;28;01mraise\u001b[39;00m \u001b[38;5;167;01mNotImplementedError\u001b[39;00m(\u001b[38;5;124m'\u001b[39m\u001b[38;5;124m서브클래스는 이 함수를 상속해야함\u001b[39m\u001b[38;5;124m'\u001b[39m)\n",
      "\u001b[1;31mNotImplementedError\u001b[0m: 서브클래스는 이 함수를 상속해야함"
     ]
    }
   ],
   "source": [
    "chiwawa = Dog()\n",
    "chiwawa.speak()"
   ]
  },
  {
   "cell_type": "code",
   "execution_count": 86,
   "id": "87756636",
   "metadata": {},
   "outputs": [],
   "source": [
    "class Cat(Animal):\n",
    "    def speak(self):\n",
    "        return \"meow\""
   ]
  },
  {
   "cell_type": "code",
   "execution_count": 87,
   "id": "8ccd94b0",
   "metadata": {},
   "outputs": [
    {
     "data": {
      "text/plain": [
       "'meow'"
      ]
     },
     "execution_count": 87,
     "metadata": {},
     "output_type": "execute_result"
    }
   ],
   "source": [
    "cat = Cat()\n",
    "cat.speak()"
   ]
  }
 ],
 "metadata": {
  "kernelspec": {
   "display_name": "base",
   "language": "python",
   "name": "python3"
  },
  "language_info": {
   "codemirror_mode": {
    "name": "ipython",
    "version": 3
   },
   "file_extension": ".py",
   "mimetype": "text/x-python",
   "name": "python",
   "nbconvert_exporter": "python",
   "pygments_lexer": "ipython3",
   "version": "3.13.5"
  }
 },
 "nbformat": 4,
 "nbformat_minor": 5
}
