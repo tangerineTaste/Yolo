{
 "cells": [
  {
   "cell_type": "code",
   "execution_count": 1,
   "id": "e6c4dd3f",
   "metadata": {},
   "outputs": [
    {
     "name": "stdout",
     "output_type": "stream",
     "text": [
      "hi\n"
     ]
    }
   ],
   "source": [
    "print('hi')"
   ]
  },
  {
   "cell_type": "code",
   "execution_count": 2,
   "id": "50322cfa",
   "metadata": {},
   "outputs": [
    {
     "name": "stdout",
     "output_type": "stream",
     "text": [
      "hihihi"
     ]
    }
   ],
   "source": [
    "for i in range(3):\n",
    "    print('hi', end='')"
   ]
  },
  {
   "cell_type": "code",
   "execution_count": null,
   "id": "498ea24c",
   "metadata": {},
   "outputs": [],
   "source": [
    "# iterable\n",
    "# [] {} ()"
   ]
  },
  {
   "cell_type": "code",
   "execution_count": 3,
   "id": "2e2d0736",
   "metadata": {},
   "outputs": [],
   "source": [
    "dic = {'나이':23, '이름':'홍길동','지역':'서울'}"
   ]
  },
  {
   "cell_type": "code",
   "execution_count": 10,
   "id": "8103b9b1",
   "metadata": {},
   "outputs": [
    {
     "data": {
      "text/plain": [
       "dict_items([('나이', 23), ('이름', '홍길동'), ('지역', '서울')])"
      ]
     },
     "execution_count": 10,
     "metadata": {},
     "output_type": "execute_result"
    }
   ],
   "source": [
    "dic.items()"
   ]
  },
  {
   "cell_type": "code",
   "execution_count": 11,
   "id": "42010642",
   "metadata": {},
   "outputs": [],
   "source": [
    "a=b=c=5"
   ]
  },
  {
   "cell_type": "code",
   "execution_count": null,
   "id": "24775325",
   "metadata": {},
   "outputs": [],
   "source": [
    "id(a), "
   ]
  }
 ],
 "metadata": {
  "kernelspec": {
   "display_name": "base",
   "language": "python",
   "name": "python3"
  },
  "language_info": {
   "codemirror_mode": {
    "name": "ipython",
    "version": 3
   },
   "file_extension": ".py",
   "mimetype": "text/x-python",
   "name": "python",
   "nbconvert_exporter": "python",
   "pygments_lexer": "ipython3",
   "version": "3.13.5"
  }
 },
 "nbformat": 4,
 "nbformat_minor": 5
}
