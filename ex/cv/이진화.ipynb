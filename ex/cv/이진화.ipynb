{
 "cells": [
  {
   "cell_type": "code",
   "execution_count": 1,
   "id": "4316e364",
   "metadata": {},
   "outputs": [],
   "source": [
    "import sys\n",
    "import numpy as np\n",
    "import cv2 "
   ]
  },
  {
   "cell_type": "markdown",
   "id": "7c611ae4",
   "metadata": {},
   "source": [
    "# TrackBar (수동)"
   ]
  },
  {
   "cell_type": "code",
   "execution_count": 2,
   "id": "ba85299d",
   "metadata": {},
   "outputs": [],
   "source": [
    "src = cv2.imread('./img/neutrophils.png', cv2.IMREAD_GRAYSCALE)"
   ]
  },
  {
   "cell_type": "code",
   "execution_count": 3,
   "id": "e6318862",
   "metadata": {},
   "outputs": [
    {
     "data": {
      "text/plain": [
       "(480, 640)"
      ]
     },
     "execution_count": 3,
     "metadata": {},
     "output_type": "execute_result"
    }
   ],
   "source": [
    "src.shape"
   ]
  },
  {
   "cell_type": "code",
   "execution_count": 4,
   "id": "4a5513f2",
   "metadata": {},
   "outputs": [],
   "source": [
    "def on_threshold(pos):\n",
    "    _, dst = cv2.threshold(src, pos, 255, cv2.THRESH_BINARY)\n",
    "    cv2.imshow('dst', dst)"
   ]
  },
  {
   "cell_type": "code",
   "execution_count": 8,
   "id": "dd972e92",
   "metadata": {},
   "outputs": [],
   "source": [
    "cv2.namedWindow('dst')\n",
    "cv2.createTrackbar('Threshold', 'dst', 0, 255, on_threshold)\n",
    "cv2.setTrackbarPos('Threshold', 'dst', 128)\n",
    "\n",
    "cv2.waitKey(0)\n",
    "cv2.destroyAllWindows()"
   ]
  },
  {
   "cell_type": "markdown",
   "id": "1801b238",
   "metadata": {},
   "source": [
    "# 적응형 이진화(adaptiveThreshold)"
   ]
  },
  {
   "cell_type": "code",
   "execution_count": 33,
   "id": "48fd02c8",
   "metadata": {},
   "outputs": [
    {
     "data": {
      "text/plain": [
       "(225, 225)"
      ]
     },
     "execution_count": 33,
     "metadata": {},
     "output_type": "execute_result"
    }
   ],
   "source": [
    "src = cv2.imread('./img/apple.jpg', cv2.IMREAD_GRAYSCALE)\n",
    "src.shape"
   ]
  },
  {
   "cell_type": "code",
   "execution_count": 34,
   "id": "896bbf65",
   "metadata": {},
   "outputs": [],
   "source": [
    "def on_trackbar(pos):\n",
    "    bsize = pos\n",
    "    if bsize % 2 == 0 :  bsize -= 1\n",
    "    if bsize < 3 : bsize = 3\n",
    "    dst = cv2.adaptiveThreshold(src, 255, cv2.ADAPTIVE_THRESH_GAUSSIAN_C, cv2.THRESH_BINARY, bsize, 5)\n",
    "    cv2.imshow('dst', dst)"
   ]
  },
  {
   "cell_type": "code",
   "execution_count": 35,
   "id": "7b1c773e",
   "metadata": {},
   "outputs": [],
   "source": [
    "cv2.namedWindow('dst', cv2.WINDOW_NORMAL)\n",
    "cv2.createTrackbar('Block Size', 'dst', 0, 200, on_trackbar)\n",
    "cv2.setTrackbarPos('Block Size', 'dst', 11)\n",
    "\n",
    "cv2.waitKey(0)\n",
    "cv2.destroyAllWindows()"
   ]
  },
  {
   "cell_type": "code",
   "execution_count": null,
   "id": "98f25abd",
   "metadata": {},
   "outputs": [],
   "source": []
  },
  {
   "cell_type": "code",
   "execution_count": 161,
   "id": "317c70f2",
   "metadata": {},
   "outputs": [
    {
     "data": {
      "text/plain": [
       "(450, 400)"
      ]
     },
     "execution_count": 161,
     "metadata": {},
     "output_type": "execute_result"
    }
   ],
   "source": [
    "src = cv2.imread('./img/scaned_paper.jpg', cv2.IMREAD_GRAYSCALE)\n",
    "src.shape"
   ]
  },
  {
   "cell_type": "code",
   "execution_count": 162,
   "id": "6b5d0610",
   "metadata": {},
   "outputs": [],
   "source": [
    "# src = cv2.add(src,80)"
   ]
  },
  {
   "cell_type": "code",
   "execution_count": 163,
   "id": "ef149624",
   "metadata": {},
   "outputs": [
    {
     "name": "stdout",
     "output_type": "stream",
     "text": [
      "12.0 255.0\n"
     ]
    }
   ],
   "source": [
    "gmin = float(np.min(src))\n",
    "gmax = float(np.max(src))\n",
    "print(gmin, gmax)"
   ]
  },
  {
   "cell_type": "code",
   "execution_count": 164,
   "id": "d7cfc75f",
   "metadata": {},
   "outputs": [],
   "source": [
    "\n",
    "_, dst = cv2.threshold(src,130,255, cv2.THRESH_BINARY)\n"
   ]
  },
  {
   "cell_type": "code",
   "execution_count": 165,
   "id": "bb40f3fd",
   "metadata": {},
   "outputs": [],
   "source": [
    "cv2.namedWindow('dst')\n",
    "cv2.createTrackbar('Threshold', 'dst', 0, 255, on_threshold)\n",
    "cv2.setTrackbarPos('Threshold', 'dst', 128)\n",
    "\n",
    "cv2.waitKey(0)\n",
    "cv2.destroyAllWindows()"
   ]
  },
  {
   "cell_type": "markdown",
   "id": "d57498a0",
   "metadata": {},
   "source": [
    "# 모폴로지 "
   ]
  },
  {
   "cell_type": "code",
   "execution_count": 252,
   "id": "5b1a3e09",
   "metadata": {},
   "outputs": [
    {
     "data": {
      "text/plain": [
       "(150, 112)"
      ]
     },
     "execution_count": 252,
     "metadata": {},
     "output_type": "execute_result"
    }
   ],
   "source": [
    "src = cv2.imread('./img/morph_dot.png', cv2.IMREAD_GRAYSCALE)\n",
    "src.shape"
   ]
  },
  {
   "cell_type": "code",
   "execution_count": 253,
   "id": "865e8d1f",
   "metadata": {},
   "outputs": [
    {
     "data": {
      "text/plain": [
       "150"
      ]
     },
     "execution_count": 253,
     "metadata": {},
     "output_type": "execute_result"
    }
   ],
   "source": [
    "src.shape[0]"
   ]
  },
  {
   "cell_type": "code",
   "execution_count": 254,
   "id": "caa76473",
   "metadata": {},
   "outputs": [],
   "source": [
    "_, src_bin = cv2.threshold(src, 0, 255, cv2.THRESH_BINARY | cv2.THRESH_OTSU)\n",
    "\n",
    "dst1 = cv2.erode(src_bin, None)\n",
    "dst2 = cv2.dilate(src_bin, None)"
   ]
  },
  {
   "cell_type": "code",
   "execution_count": 255,
   "id": "f1176bfa",
   "metadata": {},
   "outputs": [],
   "source": [
    "cv2.imshow('dst1',dst1)\n",
    "cv2.imshow('dst2',dst2)\n",
    "cv2.waitKey(0)\n",
    "cv2.destroyAllWindows()"
   ]
  },
  {
   "cell_type": "code",
   "execution_count": null,
   "id": "745f6fa3",
   "metadata": {},
   "outputs": [],
   "source": []
  }
 ],
 "metadata": {
  "kernelspec": {
   "display_name": "cv",
   "language": "python",
   "name": "python3"
  },
  "language_info": {
   "codemirror_mode": {
    "name": "ipython",
    "version": 3
   },
   "file_extension": ".py",
   "mimetype": "text/x-python",
   "name": "python",
   "nbconvert_exporter": "python",
   "pygments_lexer": "ipython3",
   "version": "3.13.7"
  }
 },
 "nbformat": 4,
 "nbformat_minor": 5
}
